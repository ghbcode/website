{
 "cells": [
  {
   "cell_type": "markdown",
   "metadata": {},
   "source": [
    "## The Greeks\n",
    "\n",
    "The greeks are used to assess how different parameters change option pricing. They are partial derivatives wrt to a certain factor. \n",
    "\n",
    "# Delta - $\\delta$\n",
    "Measures and option's price sensitivty wrt a change in the underlying's price. \n",
    "\n",
    "# Gamma - $\\gamma$\n",
    "Measures and Delta's sensitivty wrt a change in the underlying's price. It is the rate of change in Delta or the second partial derivative wrt to underlying price\n",
    "\n",
    "# Theta - $\\theta$\n",
    "Measures and option's price sensitivty wrt a change in time.\n",
    "\n",
    "# Vega - $\\vega$\n",
    "Measures and option's price sensitivty wrt a change in the implied volatility\n",
    "* Note that implied volatility is almost always higher than realized volatility because in its calculation extreme events are included. Since most likely an extreme event is not present during realized volatily then realized vol will be lower (usually)\n",
    "\n",
    "# Rho - $\\rho$\n",
    "Measures and option's price sensitivty wrt a change in the interest rate. \n",
    "\n",
    "### Side notes\n",
    "* Why are puts more costly than calls? \n",
    "- from a behavioral perspective people are willing to pay more for downside protection and in fact do so. "
   ]
  },
  {
   "cell_type": "markdown",
   "metadata": {},
   "source": []
  }
 ],
 "metadata": {
  "language_info": {
   "name": "python"
  },
  "orig_nbformat": 4
 },
 "nbformat": 4,
 "nbformat_minor": 2
}

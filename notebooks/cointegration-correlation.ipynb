{
 "cells": [
  {
   "cell_type": "code",
   "execution_count": null,
   "metadata": {},
   "outputs": [],
   "source": [
    "# Difference between Cointegration and Correlation\n",
    "\n",
    "The correlation is used to check for the linear relationship (or linear interdependence) between two variables while co-integration is used to check for the existence of a long-run relationship between two or more variables.\n",
    "\n",
    "\n",
    "https://www.quora.com/What-is-the-difference-between-correlation-and-cointegration-Is-cointegration-a-good-measure-of-risk\n",
    "\"\n",
    "Correlation is defined for stationary variables whereas cointegration is for non-stationary variables. You can consider cointegration as the 'correlation' (or a better word: co-movement) between two non-stationary variables.\n",
    "\n",
    "To compute (population) correlation, we need to compute expected value and the variance of the variables. However, for non-stationary variables, expected value (thus the variance) does not exist. For this reason, correlation of non-stationary variables do not exist. Surely one can compute the sample correlation between any variables, but this does not mean that the number we get is actually what we believed we get.\n",
    "\n",
    "Co-integration represents whether two non-stationary variables co-move in a stationary way, or whether they are attached to each other. Hence, in simple english terms, we can consider them to be 'correlated' even though mathematically this sentence is not correct.\""
   ]
  }
 ],
 "metadata": {
  "language_info": {
   "name": "python"
  },
  "orig_nbformat": 4
 },
 "nbformat": 4,
 "nbformat_minor": 2
}

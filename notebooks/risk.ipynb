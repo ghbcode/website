{
 "cells": [
  {
   "cell_type": "markdown",
   "metadata": {},
   "source": [
    "The most common risk measures include\n",
    "* Standard deviation\n",
    "* Sharpe ratio\n",
    "* Beta\n",
    "* Tracking error (ETFs)\n",
    "* Draw down\n",
    "* VaR\n",
    "* CVaR\n",
    "* $R^2$"
   ]
  },
  {
   "cell_type": "markdown",
   "metadata": {},
   "source": []
  }
 ],
 "metadata": {
  "language_info": {
   "name": "python"
  },
  "orig_nbformat": 4
 },
 "nbformat": 4,
 "nbformat_minor": 2
}

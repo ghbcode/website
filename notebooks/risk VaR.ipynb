{
 "cells": [
  {
   "cell_type": "markdown",
   "metadata": {},
   "source": [
    "# Value at Risk (VaR)\n",
    "\n",
    "VaR is a statistical risk measure primarily used in finance that may be computed in different ways. VaR is defined for a given a time period (ex: 1 day) and confidence level *p*, and tells you the maximum value/amount (ex: dollar) that an investment portfolio may lose. So if a certain portfolio has a one day, 95% VaR of $1M, it means that the portfolio may not lose more than \\$ 1M in value, in a one day time period, at the 95% confidence level. Note the following implications: \n",
    "* there is a probability of (1-p) that the portfolio will lose more than the VaR value\n",
    "  * in the example above, there is a 5% probability that said portfolio will lose more than $1M in the one day time period\n",
    "  * in these extreme cases the CVaR (`Conditional VaR` also known as `expected shortfall`) measure is used; it takes into account breaching this VaR value and it is a weighted average of the \"extreme\" losses in the tail of the distribution of possible returns\n",
    "* VaR scales with the square root of time. So in the above example, the 5 day VaR (at 95% ci, for the same portfolio) is $\\$1,000,000 * \\sqrt{5} = \\$2,236,068$\n",
    "\n",
    "You may calculate VaR non-parametrically or parametrically however these two categories are further brokend down into:\n",
    "* Historical VaR - this is a non-parametric method that takes historial returns for the asset/portfolio, for a certain period of time and given a certain confidence level will return the expected loss.\n",
    "  * obviously the past is not a predictor for the future so this measure is merely using past data. Not a great way to do it but it is something...\n",
    "* Variance-Covariance VaR - is a parametric method that assumes certain asset volatilities $\\sigma_{i}$ and asset pair correlations $\\rho_{i,j}$. Then assuming a distribution of returns, say a normal distribution, calculates the portfolio VaR using the corresponding confidence level\n",
    "  * so for a 95% confidence interval (single sided) the one day VaR = Value of portfolio x 1.96 x variance of portfolio\n",
    "* Monte Carlo Method - is another parametric method that basically allows you to tweak more variables than the Variance-Covariance method and simulates every tweakable aspect of the calculation. Ultimately the VaR value is derived from a more fine grained simulation. "
   ]
  },
  {
   "cell_type": "markdown",
   "metadata": {},
   "source": [
    "## Historical VaR\n",
    "\n",
    "Below we will calculate Historical VaR for Amazon from 2019-07-11 through 2022-07-13."
   ]
  },
  {
   "cell_type": "code",
   "execution_count": 1,
   "metadata": {},
   "outputs": [
    {
     "name": "stdout",
     "output_type": "stream",
     "text": [
      "         date    adjclose    return\n",
      "0  2019-07-11  100.053497       NaN\n",
      "1  2019-07-12  100.550003  0.004962\n",
      "2  2019-07-15  101.049500  0.004968\n",
      "3  2019-07-16  100.495003 -0.005487\n",
      "4  2019-07-17   99.601501 -0.008891\n"
     ]
    },
    {
     "data": {
      "text/plain": [
       "[<matplotlib.lines.Line2D at 0x261ac262520>]"
      ]
     },
     "execution_count": 1,
     "metadata": {},
     "output_type": "execute_result"
    },
    {
     "data": {
      "image/png": "[encoded data removed]",
      "text/plain": [
       "<Figure size 432x288 with 1 Axes>"
      ]
     },
     "metadata": {
      "needs_background": "light"
     },
     "output_type": "display_data"
    }
   ],
   "source": [
    "import pandas as pd\n",
    "import numpy as np\n",
    "from scipy import stats\n",
    "import matplotlib.pyplot as plt\n",
    "amzn = pd.read_csv(\"amzn_var.csv\")\n",
    "data_return = amzn[\"return\"]\n",
    "print(amzn.head(5))\n",
    "plt.title(\"AMZN Returns\")\n",
    "plt.plot(data_return)"
   ]
  },
  {
   "cell_type": "code",
   "execution_count": 2,
   "metadata": {},
   "outputs": [
    {
     "name": "stdout",
     "output_type": "stream",
     "text": [
      "There are 757 returns in data_return\n"
     ]
    },
    {
     "data": {
      "text/plain": [
       "Text(0.5, 1.0, 'AMZN returns Histogram')"
      ]
     },
     "execution_count": 2,
     "metadata": {},
     "output_type": "execute_result"
    },
    {
     "data": {
      "image/png": "[encoded data removed]",
      "text/plain": [
       "<Figure size 432x288 with 1 Axes>"
      ]
     },
     "metadata": {
      "needs_background": "light"
     },
     "output_type": "display_data"
    }
   ],
   "source": [
    "percentile = 0.999\n",
    "hist_var_90 = data_return.quantile(0.1)\n",
    "hist_var_95 = data_return.quantile(0.05)\n",
    "hist_var_99 = data_return.quantile(0.01)\n",
    "hist_var_custom = data_return.quantile(1 - percentile)\n",
    "hist_var_list = [hist_var_90, hist_var_95, hist_var_99, hist_var_custom]\n",
    "print(\"There are {0} returns in data_return\".format(data_return.count()))\n",
    "plt.axvline(x=hist_var_95, color=\"red\")\n",
    "plt.hist(data_return, bins=100)\n",
    "plt.title(\"AMZN returns Histogram\")"
   ]
  },
  {
   "cell_type": "markdown",
   "metadata": {},
   "source": [
    "We can easily calculate the 95% one day VaR on a $1M portfolio by calculating: \n",
    "\n",
    "$VaR_{1d, 95\\%} = \\$1,000,000 * histvar95$\n",
    "\n",
    "$VaR_{1d, 95\\%} = \\$1,000,000 * -.032172$\n",
    "\n",
    "$VaR_{1d, 95\\%} = -\\$32,172.9$\n",
    "\n",
    "Below are the corresponding values as well as a quick check that hist_var_95 does in fact match with the record that is right at the 5% cuttoff/position of the sorted values. "
   ]
  },
  {
   "cell_type": "code",
   "execution_count": 3,
   "metadata": {},
   "outputs": [
    {
     "name": "stdout",
     "output_type": "stream",
     "text": [
      "Value of hist_var_95 is -0.03217290748669776\n",
      "Therefore, the one day 95% VaR of a portfolio of $1M worth of AMZ is $-32,172.91\n",
      "Just as a quick check there are 38 intances of values less than the hist_var_95 return\n",
      "With 757 records in the data_return Series, we expect %5 of the values to be 38 records in total\n"
     ]
    }
   ],
   "source": [
    "from math import ceil\n",
    "sorted_data_return = data_return.sort_values(axis=0)\n",
    "print(\"Value of hist_var_95 is {0}\".format(hist_var_95))\n",
    "print(\"Therefore, the one day 95% VaR of a portfolio of $1M worth of AMZ is ${0:,.2f}\".format(1e6 * hist_var_95))\n",
    "print(\"Just as a quick check there are {0} intances of values less than the hist_var_95 return\".format(sorted_data_return[sorted_data_return < hist_var_95].count()))\n",
    "print(\"With {0} records in the data_return Series, we expect %5 of the values to be {1} records in total\".format(data_return.count(), ceil(data_return.count()*.05)))"
   ]
  },
  {
   "cell_type": "markdown",
   "metadata": {},
   "source": [
    "## Variance-Covariance VaR"
   ]
  },
  {
   "cell_type": "code",
   "execution_count": 4,
   "metadata": {},
   "outputs": [
    {
     "name": "stdout",
     "output_type": "stream",
     "text": [
      "Using the Variance-Covariance method, the one day 95% VaR of a portfolio worth $1,000,000.00 of AMZ is -$36,687.54\n"
     ]
    }
   ],
   "source": [
    "from scipy.stats import norm\n",
    "\n",
    "def value_at_risk(pos, p, mu, sigma):\n",
    "    alpha = norm.ppf(1-p)\n",
    "    var = pos*(mu-sigma*alpha)\n",
    "    return var\n",
    "\n",
    "portfolio_value = 1e6\n",
    "p = 0.95\n",
    "mu = np.mean(data_return)\n",
    "sigma = np.std(data_return)\n",
    "variance_covariance_var = value_at_risk(portfolio_value, p, mu, sigma)\n",
    "\n",
    "print(\"Using the Variance-Covariance method, the one day 95% VaR of a portfolio worth ${0:,.2f} of AMZ is -${1:,.2f}\".format(portfolio_value, variance_covariance_var))\n"
   ]
  },
  {
   "cell_type": "markdown",
   "metadata": {},
   "source": [
    "## Monte Carlo Simulation"
   ]
  },
  {
   "cell_type": "code",
   "execution_count": 5,
   "metadata": {},
   "outputs": [
    {
     "name": "stdout",
     "output_type": "stream",
     "text": [
      "Using Monte Carlo Simulation, the one day 95% VaR of a portfolio worth $1,000,000.00 of AMZ is -$-39,689.87\n"
     ]
    }
   ],
   "source": [
    "class ValueAtRiskMoneteCarlo:\n",
    "    def __init__(self, S, mu, sigma, p, n, iterations):\n",
    "        self.S = S\n",
    "        self.mu = mu\n",
    "        self.sigma = sigma\n",
    "        self.p = p\n",
    "        self.n = n\n",
    "        self.iterations = iterations\n",
    "        \n",
    "    def simulation(self):\n",
    "        stock_data = np.zeros([self.iterations,1])\n",
    "        rand = np.random.normal(0,1,[1,self.iterations])\n",
    "        \n",
    "        # equation for S(t) stock price\n",
    "        stock_price = self.S*np.exp(self.n*(self.mu-0.5*self.sigma**2)+ self.sigma*np.sqrt(self.n)*rand)\n",
    "        \n",
    "        #we have to sort the stock prices to determine the percentile\n",
    "        stock_price = np.sort(stock_price)\n",
    "        \n",
    "        #it depends on the confidence level: 95% -> 5 and 99% -> 1\n",
    "        percentile = np.percentile(stock_price,(1-self.p*-100))\n",
    "        #percentile = np.percentile(stock_price,5)\n",
    "        \n",
    "        return self.S-percentile\n",
    "\n",
    "iterations = 100000\n",
    "n = 1\n",
    "\n",
    "mc_model = ValueAtRiskMoneteCarlo(portfolio_value, mu, sigma,p,n,iterations)\n",
    "mc_var = mc_model.simulation()\n",
    "print(\"Using Monte Carlo Simulation, the one day 95% VaR of a portfolio worth ${0:,.2f} of AMZ is -${1:,.2f}\".format(portfolio_value, mc_var))\n"
   ]
  },
  {
   "cell_type": "code",
   "execution_count": null,
   "metadata": {},
   "outputs": [],
   "source": []
  }
 ],
 "metadata": {
  "kernelspec": {
   "display_name": "Python 3.9.6 ('ls')",
   "language": "python",
   "name": "python3"
  },
  "language_info": {
   "codemirror_mode": {
    "name": "ipython",
    "version": 3
   },
   "file_extension": ".py",
   "mimetype": "text/x-python",
   "name": "python",
   "nbconvert_exporter": "python",
   "pygments_lexer": "ipython3",
   "version": "3.9.6"
  },
  "orig_nbformat": 4,
  "vscode": {
   "interpreter": {
    "hash": "da82c960b7bec69d3c26ad4b7dcbea0a89053b3da7df8cb2aed9ed5967673cbe"
   }
  }
 },
 "nbformat": 4,
 "nbformat_minor": 2
}
